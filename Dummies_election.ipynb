{
 "cells": [
  {
   "cell_type": "code",
   "execution_count": null,
   "id": "75c7471d-5522-4ec8-b1d1-0533bb946aef",
   "metadata": {},
   "outputs": [],
   "source": [
    "import pandas as pd\n",
    "import numpy as np\n",
    "\n",
    "pd.set_option('display.max_columns', 50)\n",
    "\n",
    "kv17 = pd.read_csv('KV_17_f.csv', decimal=',')\n",
    "kv21 = pd.read_csv('KV_21_f.csv', decimal=',')\n",
    "\n",
    "\n",
    "#Dummyt / One hot encoding\n",
    "\n",
    "#Dummyt sukupuoli ja 'nykyinen' poliittinen virka\n",
    "kv17['is_female'] = kv17['Sukupuoli'] - 1\n",
    "kv21['is_female'] = kv21['Sukupuoli'] - 1\n",
    "\n",
    "list_of_politi= ['Europarlamentaarikko',\n",
    "'Kansanedustaja',\n",
    "'Kunnanvaltuutettu']\n",
    "\n",
    "kv17[list_of_politi] = kv17[list_of_politi].replace(to_replace=[\" \",'1'], value=[0,1])\n",
    "kv17['is_politician'] = kv17[['Europarlamentaarikko','Kansanedustaja','Kunnanvaltuutettu']].sum(axis=1)\n",
    "kv17[kv17['is_politician'] == 2] = 1\n",
    "\n",
    "kv21[list_of_politi] = kv21[list_of_politi].replace(to_replace=[\" \",'1'], value=[0,1])\n",
    "kv21['is_politician'] = kv21[['Europarlamentaarikko','Kansanedustaja','Kunnanvaltuutettu']].sum(axis=1)\n",
    "kv21[kv21['is_politician'] == 2] = 1\n",
    "\n",
    "#ehdokkaan äidinkieli\n",
    "kv17['fi'] = kv17['Ehdokkaan kieli'] == 'FI'\n",
    "kv17['sv'] = kv17['Ehdokkaan kieli'] == 'SV'\n",
    "kv21['fi'] = kv21['Ehdokkaan kieli'] == 'FI'\n",
    "kv21['sv'] = kv21['Ehdokkaan kieli'] == 'SV' \n",
    "kv17[['fi','sv']] = kv17[['fi','sv']].astype('int')\n",
    "kv21[['fi','sv']] = kv21[['fi','sv']].astype('int')\n",
    "\n",
    "#Valintatietodummy\n",
    "kv17['chosen'] = kv17['Valintatieto'].map({1:1, 2:0, 3:0})\n",
    "kv21['chosen'] = kv21['Valintatieto'].map({1:1, 2:0, 3:0})\n",
    "\n",
    "#drop 0e budgets\n",
    "kv17 = kv17[kv17['Vaalikampanjan rahoitus yhteensa'] != 0]\n",
    "kv21 = kv21[kv21['Vaalikampanjan rahoitus yhteensa'] != 0]\n",
    "\n",
    "#Political party dummies for the major parties\n",
    "party_dummy = pd.get_dummies(kv17['Puolueen/ryhmän nimilyhenne suomeksi'])\n",
    "kv17[['KOK','KESK','SDP','VIHR','VAS','PS','RKP','KD']] = party_dummy[['KD    ', 'KESK  ',\n",
    "       'KOK   ','PS    ','RKP   ','SDP   ','VAS   ', 'VIHR  ']]\n",
    "party_dummy = pd.get_dummies(kv21['Puolueen/ryhmän nimilyhenne suomeksi'])\n",
    "kv21[['KOK','KESK','SDP','VIHR','VAS','PS','RKP','KD']] = party_dummy[['KD    ', 'KESK  ',\n",
    "       'KOK   ','PS    ','RKP   ','SDP   ','VAS   ', 'VIHR  ']]\n",
    "\n",
    "#Modified df\n",
    "kv17.head()"
   ]
  },
  {
   "cell_type": "code",
   "execution_count": null,
   "id": "872b43b0-7ab4-4e1d-9fbf-8a4f6d9765f6",
   "metadata": {},
   "outputs": [],
   "source": [
    "#dtypes seem correct\n",
    "kv17.dtypes"
   ]
  },
  {
   "cell_type": "code",
   "execution_count": null,
   "id": "5d30e2e6-0937-40e8-aace-349c6f5add37",
   "metadata": {},
   "outputs": [],
   "source": [
    "#Normalize spending\n",
    "from sklearn import preprocessing\n",
    "list_to_normalize = ['Vaalikampanjan kulut yhteensa',\n",
    "       'Sanoma- ilmaisjakelu- ja aikakauslehdet', 'Radio', 'Televisio',\n",
    "       'Tietoverkot', 'Muut viestintavalineet', 'Ulkomainonta',\n",
    "       'Vaalilehtien esitteiden ja muun painetun materiaalin hankinta',\n",
    "       'Mainonnan suunnittelu', 'Vaalitilaisuudet',\n",
    "       'Vastikeellisen tuen hankintakulut', 'Muut kulut',\n",
    "       'Vaalikampanjan rahoitus yhteensa']\n",
    "\n",
    "\n",
    "kv17[list_to_normalize] = preprocessing.Normalizer().fit_transform(kv17[list_to_normalize])\n",
    "kv21[list_to_normalize] = preprocessing.Normalizer().fit_transform(kv21[list_to_normalize])\n"
   ]
  }
 ],
 "metadata": {
  "kernelspec": {
   "display_name": "Python 3 (ipykernel)",
   "language": "python",
   "name": "python3"
  },
  "language_info": {
   "codemirror_mode": {
    "name": "ipython",
    "version": 3
   },
   "file_extension": ".py",
   "mimetype": "text/x-python",
   "name": "python",
   "nbconvert_exporter": "python",
   "pygments_lexer": "ipython3",
   "version": "3.9.1"
  }
 },
 "nbformat": 4,
 "nbformat_minor": 5
}
